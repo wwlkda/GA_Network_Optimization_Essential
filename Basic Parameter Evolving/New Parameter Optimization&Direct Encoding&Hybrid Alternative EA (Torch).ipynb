{
 "cells": [
  {
   "cell_type": "code",
   "execution_count": 1,
   "metadata": {},
   "outputs": [],
   "source": [
    "import torch\n",
    "import numpy as np\n",
    "import torch.nn as nn\n",
    "from random import randint,shuffle,uniform\n",
    "import matplotlib.pyplot as plt"
   ]
  },
  {
   "cell_type": "code",
   "execution_count": 2,
   "metadata": {},
   "outputs": [],
   "source": [
    "def actual_function_analytic(x):\n",
    "    return 2*x**2+3"
   ]
  },
  {
   "cell_type": "code",
   "execution_count": 3,
   "metadata": {},
   "outputs": [],
   "source": [
    "x_train=[]\n",
    "y_train=[]\n",
    "X=-1\n",
    "while X<1:\n",
    "    x_train.append(X)\n",
    "    y_train.append(actual_function_analytic(X))\n",
    "    X+=0.0002\n",
    "\n",
    "index = [i for i in range(len(y_train))]\n",
    "shuffle(index)\n",
    "for i in range(len(y_train)):\n",
    "    x_train[i] = x_train[index[i]]\n",
    "    y_train[i] = y_train[index[i]]+uniform(-0.02,0.02)\n",
    "    \n",
    "x_test=[]\n",
    "y_test=[]\n",
    "X=-1.0001\n",
    "while X<1:\n",
    "    x_test.append(X)\n",
    "    y_test.append(actual_function_analytic(X))\n",
    "    X+=0.0002\n",
    "\n",
    "index = [i for i in range(len(y_test))]\n",
    "shuffle(index)\n",
    "for i in range(len(y_test)):\n",
    "    x_test[i] = x_test[index[i]]\n",
    "    y_test[i] = y_test[index[i]]\n",
    "    \n",
    "(x_eval,y_eval)=(x_train[:len(x_train)//20],y_train[:len(x_train)//20])\n",
    "(x_train,y_train)=(x_train[len(x_train)//20:],y_train[len(x_train)//20:])\n",
    "\n",
    "x_train=torch.Tensor(x_train)\n",
    "y_train=torch.Tensor(y_train)\n",
    "x_test=torch.Tensor(x_test)\n",
    "y_test=torch.Tensor(y_test)\n",
    "x_eval=torch.Tensor(x_eval)\n",
    "y_eval=torch.Tensor(x_eval)"
   ]
  },
  {
   "cell_type": "code",
   "execution_count": 4,
   "metadata": {},
   "outputs": [],
   "source": [
    "def forward(x,w1,b1,w2,b2):\n",
    "    #隐藏层前向计算\n",
    "    h1=torch.matmul(x,w1)+b1\n",
    "    h1=torch.relu(h1)\n",
    "    #输出层前向计算\n",
    "    h2=torch.matmul(h1,w2)+b2\n",
    "    return h2"
   ]
  },
  {
   "cell_type": "code",
   "execution_count": 5,
   "metadata": {},
   "outputs": [],
   "source": [
    "def initialize_group():\n",
    "    chrome=torch.randn([NG,C_length])\n",
    "    return chrome"
   ]
  },
  {
   "cell_type": "code",
   "execution_count": 6,
   "metadata": {},
   "outputs": [],
   "source": [
    "def decode_to_param(chrome):\n",
    "    #隐藏层张量\n",
    "    w1=torch.reshape(chrome[:10],[1,10])\n",
    "    b1=chrome[10:20]\n",
    "    #输出层张量\n",
    "    w2=torch.reshape(chrome[20:30],[10,1])\n",
    "    b2=torch.reshape(chrome[-1],[1])\n",
    "\n",
    "    w1.requires_grad_(True)\n",
    "    b1.requires_grad_(True)\n",
    "    w2.requires_grad_(True)\n",
    "    b2.requires_grad_(True)\n",
    "    \n",
    "    return w1,b1,w2,b2"
   ]
  },
  {
   "cell_type": "code",
   "execution_count": 7,
   "metadata": {},
   "outputs": [],
   "source": [
    "def best_to_param(chrome):\n",
    "    #隐藏层张量\n",
    "    w1=torch.reshape(chrome[:10],[1,10])\n",
    "    b1=chrome[10:20]\n",
    "    #输出层张量\n",
    "    w2=torch.reshape(chrome[20:30],[10,1])\n",
    "    b2=torch.reshape(chrome[-1],[1])\n",
    "    print ([w1,b1,w2,b2])\n",
    "    return w1,b1,w2,b2"
   ]
  },
  {
   "cell_type": "code",
   "execution_count": 8,
   "metadata": {},
   "outputs": [],
   "source": [
    "def train(x,y,w1,b1,w2,b2):\n",
    "    criterion=nn.MSELoss()\n",
    "    optimizer = torch.optim.SGD([w1,b1,w2,b2], lr=0.01)\n",
    "\n",
    "    for step in range(201):\n",
    "        if step:\n",
    "            optimizer.zero_grad()#清空梯度记录\n",
    "            loss.backward()#计算权重梯度并记录\n",
    "            optimizer.step()#更新权重\n",
    "        o=forward(torch.reshape(x,[len(x),1]),w1,b1,w2,b2)\n",
    "        loss=criterion(o,torch.reshape(y,[len(y),1]))\n",
    "    return 1/loss"
   ]
  },
  {
   "cell_type": "code",
   "execution_count": 9,
   "metadata": {},
   "outputs": [],
   "source": [
    "def F_fitness(w1,b1,w2,b2):\n",
    "    batch_size=20\n",
    "    index=[randint(0,y_train.size(dim=0)-1) for i in range(batch_size)]\n",
    "    shuffle(index)\n",
    "    x=x_train[index[0:batch_size]]\n",
    "    y=y_train[index[0:batch_size]]\n",
    "    return train(x,y,w1,b1,w2,b2)"
   ]
  },
  {
   "cell_type": "code",
   "execution_count": 10,
   "metadata": {},
   "outputs": [],
   "source": [
    "def evaluate_group(group):\n",
    "    score=[]\n",
    "    for chrome in group:\n",
    "        w1,b1,w2,b2=decode_to_param(chrome)\n",
    "        s=F_fitness(w1,b1,w2,b2)\n",
    "        score.append(s)\n",
    "    return score"
   ]
  },
  {
   "cell_type": "code",
   "execution_count": 11,
   "metadata": {},
   "outputs": [],
   "source": [
    "def roulette_pick(group,s):\n",
    "    p=uniform(0,1)\n",
    "    for i in range(len(s)):\n",
    "        if p<s[i]:return group[i]\n",
    "    return group[len(s)-1]"
   ]
  },
  {
   "cell_type": "code",
   "execution_count": 12,
   "metadata": {},
   "outputs": [],
   "source": [
    "def select(group,score):\n",
    "    new_group=[]\n",
    "    norm_score=[score[i]/sum(score) for i in range(len(score))]\n",
    "    norm_score_cum=np.cumsum(norm_score)\n",
    "    for i in range(len(group)):\n",
    "        new_group.append(roulette_pick(group,norm_score_cum))\n",
    "    return new_group"
   ]
  },
  {
   "cell_type": "code",
   "execution_count": 13,
   "metadata": {},
   "outputs": [],
   "source": [
    "def crossover(group):\n",
    "    for i in range(0,len(group),2):\n",
    "        p=uniform(0,1)\n",
    "        if p<PC:\n",
    "            place=randint(0,C_length-1)\n",
    "            group[i],group[i+1]=torch.concat([group[i][:place],group[i+1][place:]],dim=0),\\\n",
    "                                torch.concat([group[i+1][:place],group[i][place:]],dim=0)"
   ]
  },
  {
   "cell_type": "code",
   "execution_count": 14,
   "metadata": {},
   "outputs": [],
   "source": [
    "def mutation(group):\n",
    "    for i in range(len(group)):\n",
    "        p=uniform(0,1)\n",
    "        if p<PM:\n",
    "            place=randint(0,C_length-1)\n",
    "            group[i]=torch.concat([group[i][:place],\n",
    "                                  torch.reshape(group[i][place]+uniform(-5,5),[1]),\n",
    "                                  group[i][place+1:]],\n",
    "                             dim=0)"
   ]
  },
  {
   "cell_type": "code",
   "execution_count": 15,
   "metadata": {},
   "outputs": [],
   "source": [
    "def elitist(group,score,elit,elit_score):\n",
    "    index=score.index(max(score))\n",
    "    if score[index]>elit_score: return group[index],score[index]\n",
    "    else:                       return elit,elit_score"
   ]
  },
  {
   "cell_type": "code",
   "execution_count": 16,
   "metadata": {},
   "outputs": [],
   "source": [
    "def elit_replace(group,score,elit,elit_score):\n",
    "    index=score.index(min(score))\n",
    "    group[index],score[index]=elit,elit_score"
   ]
  },
  {
   "cell_type": "code",
   "execution_count": 17,
   "metadata": {},
   "outputs": [],
   "source": [
    "#遗传算法全局变量定义区\n",
    "PM=0.01\n",
    "PC=0.1\n",
    "NG=50\n",
    "Generate=30\n",
    "C_length=31"
   ]
  },
  {
   "cell_type": "code",
   "execution_count": 18,
   "metadata": {},
   "outputs": [],
   "source": [
    "def in_and_out(chrome):\n",
    "    w1,b1,w2,b2=best_to_param(chrome)\n",
    "    plt.figure()\n",
    "    plt.plot(x_train,y_train,'bo')\n",
    "    o=forward(torch.reshape(x_test,[len(x_test),1]),w1,b1,w2,b2)\n",
    "    plt.plot(x_test,o,'ro')"
   ]
  },
  {
   "cell_type": "code",
   "execution_count": 19,
   "metadata": {
    "scrolled": true
   },
   "outputs": [
    {
     "name": "stdout",
     "output_type": "stream",
     "text": [
      "tensor(422.7126, grad_fn=<MulBackward0>) tensor(96.4931, grad_fn=<DivBackward0>)\n",
      "tensor(479.7527, grad_fn=<MulBackward0>) tensor(203.7454, grad_fn=<DivBackward0>)\n",
      "tensor(600.4076, grad_fn=<MulBackward0>) tensor(267.8705, grad_fn=<DivBackward0>)\n",
      "tensor(1202.0035, grad_fn=<MulBackward0>) tensor(346.9728, grad_fn=<DivBackward0>)\n",
      "tensor(1243.9945, grad_fn=<MulBackward0>) tensor(511.8801, grad_fn=<DivBackward0>)\n",
      "tensor(2671.9080, grad_fn=<MulBackward0>) tensor(715.4782, grad_fn=<DivBackward0>)\n",
      "tensor(2671.9080, grad_fn=<MulBackward0>) tensor(806.8674, grad_fn=<DivBackward0>)\n",
      "tensor(2671.9080, grad_fn=<MulBackward0>) tensor(953.9383, grad_fn=<DivBackward0>)\n",
      "tensor(2994.3289, grad_fn=<MulBackward0>) tensor(1167.6174, grad_fn=<DivBackward0>)\n",
      "tensor(3834.2454, grad_fn=<MulBackward0>) tensor(1273.3964, grad_fn=<DivBackward0>)\n",
      "tensor(3834.2454, grad_fn=<MulBackward0>) tensor(1145.2684, grad_fn=<DivBackward0>)\n",
      "tensor(3834.2454, grad_fn=<MulBackward0>) tensor(1197.4988, grad_fn=<DivBackward0>)\n",
      "tensor(3834.2454, grad_fn=<MulBackward0>) tensor(1119.4530, grad_fn=<DivBackward0>)\n",
      "tensor(3834.2454, grad_fn=<MulBackward0>) tensor(1185.1807, grad_fn=<DivBackward0>)\n",
      "tensor(3834.2454, grad_fn=<MulBackward0>) tensor(1267.4048, grad_fn=<DivBackward0>)\n",
      "tensor(4112.0640, grad_fn=<MulBackward0>) tensor(1372.8942, grad_fn=<DivBackward0>)\n",
      "tensor(4112.0640, grad_fn=<MulBackward0>) tensor(1321.2913, grad_fn=<DivBackward0>)\n",
      "tensor(4112.0640, grad_fn=<MulBackward0>) tensor(1266.1656, grad_fn=<DivBackward0>)\n",
      "tensor(4112.0640, grad_fn=<MulBackward0>) tensor(1303.0417, grad_fn=<DivBackward0>)\n",
      "tensor(4112.0640, grad_fn=<MulBackward0>) tensor(1247.7152, grad_fn=<DivBackward0>)\n",
      "tensor(4112.0640, grad_fn=<MulBackward0>) tensor(1275.7407, grad_fn=<DivBackward0>)\n",
      "tensor(4112.0640, grad_fn=<MulBackward0>) tensor(1261.8590, grad_fn=<DivBackward0>)\n",
      "tensor(4112.0640, grad_fn=<MulBackward0>) tensor(1273.4495, grad_fn=<DivBackward0>)\n",
      "tensor(4112.0640, grad_fn=<MulBackward0>) tensor(1307.1991, grad_fn=<DivBackward0>)\n",
      "tensor(4112.0640, grad_fn=<MulBackward0>) tensor(1191.3857, grad_fn=<DivBackward0>)\n",
      "tensor(4112.0640, grad_fn=<MulBackward0>) tensor(1357.2412, grad_fn=<DivBackward0>)\n",
      "tensor(4112.0640, grad_fn=<MulBackward0>) tensor(1246.5874, grad_fn=<DivBackward0>)\n",
      "tensor(4112.0640, grad_fn=<MulBackward0>) tensor(1254.0201, grad_fn=<DivBackward0>)\n",
      "tensor(4112.0640, grad_fn=<MulBackward0>) tensor(1190.7961, grad_fn=<DivBackward0>)\n",
      "tensor(4112.0640, grad_fn=<MulBackward0>) tensor(1268.6024, grad_fn=<DivBackward0>)\n",
      "[tensor([[ 2.4929, -0.1384, -1.3703,  0.3315, -0.5968, -0.0058, -0.0717, -1.3686,\n",
      "         -0.5765,  0.1455]]), tensor([ 0.8237, -0.1375,  0.1855,  0.5841,  1.7678,  0.9055,  0.9031,  0.7627,\n",
      "         0.5857,  1.1824]), tensor([[ 0.7743],\n",
      "        [-2.4827],\n",
      "        [ 1.2618],\n",
      "        [ 0.3382],\n",
      "        [-0.9001],\n",
      "        [-1.3705],\n",
      "        [ 1.1099],\n",
      "        [ 1.2829],\n",
      "        [-0.4375],\n",
      "        [ 2.3981]]), tensor([0.2326])]\n"
     ]
    },
    {
     "data": {
      "image/png": "[encoded data removed]",
      "text/plain": [
       "<Figure size 432x288 with 1 Axes>"
      ]
     },
     "metadata": {
      "needs_background": "light"
     },
     "output_type": "display_data"
    }
   ],
   "source": [
    "def GA():\n",
    "    group=initialize_group()\n",
    "    score=evaluate_group(group)\n",
    "    elit_score=0\n",
    "    elit=0\n",
    "    for i in range(Generate):\n",
    "        elit,elit_score=elitist(group,score,elit,elit_score)\n",
    "        group=select(group,score)#Group是一个张量列表\n",
    "        crossover(group)\n",
    "        mutation(group)\n",
    "        score=evaluate_group(group)\n",
    "        elit_replace(group,score,elit,elit_score)\n",
    "        print(max(score),sum(score)/len(score))\n",
    "    best_chrome=group[score.index(elit_score)]\n",
    "    in_and_out(best_chrome)\n",
    "GA()"
   ]
  }
 ],
 "metadata": {
  "celltoolbar": "原始单元格格式",
  "kernelspec": {
   "display_name": "Python 3",
   "language": "python",
   "name": "python3"
  },
  "language_info": {
   "codemirror_mode": {
    "name": "ipython",
    "version": 3
   },
   "file_extension": ".py",
   "mimetype": "text/x-python",
   "name": "python",
   "nbconvert_exporter": "python",
   "pygments_lexer": "ipython3",
   "version": "3.8.8"
  }
 },
 "nbformat": 4,
 "nbformat_minor": 2
}
