{
 "cells": [
  {
   "cell_type": "code",
   "execution_count": null,
   "metadata": {},
   "outputs": [],
   "source": [
    "import torch\n",
    "from torch import nn\n",
    "from torch.utils import data\n",
    "import torchvision\n",
    "from torchvision import datasets\n",
    "import numpy as np\n",
    "import matplotlib.pyplot as plt\n",
    "import matplotlib_inline\n",
    "import os"
   ]
  },
  {
   "cell_type": "code",
   "execution_count": null,
   "metadata": {},
   "outputs": [],
   "source": [
    "def nin_block(in_channels,out_channels,kernel_size,strides,padding):\n",
    "    return nn.Sequential(\n",
    "        nn.Conv2d(in_channels,out_channels,kernel_size,strides,padding),nn.ReLU(),\n",
    "        nn.Conv2d(out_channels,out_channels,kernel_size=1),nn.ReLU(),\n",
    "        nn.Conv2d(out_channels,out_channels,kernel_size=1)\n",
    "    )\n",
    "    \n",
    "net=nn.Sequential(\n",
    "    nin_block(1,96,kernel_size=11,strides=4,padding=0),\n",
    "    nn.MaxPool2d(3,stride=2),\n",
    "    nin_block(96,256,kernel_size=5,strides=1,padding=2),\n",
    "    nn.MaxPool2d(3,stride=2),\n",
    "    nin_block(256,384,kernel_size=3,strides=1,padding=1),\n",
    "    nn.MaxPool2d(3,stride=2),\n",
    "    nn.Dropout(0.5),\n",
    "    nin_block(384,10,kernel_size=3,strides=1,padding=1),\n",
    "    nn.AdaptiveAvgPool2d((1,1)),\n",
    "    nn.Flatten()\n",
    ")"
   ]
  }
 ],
 "metadata": {
  "interpreter": {
   "hash": "da261d0780e93bc3d36c3a39c2e49d7a3bd7850c9b78b44ae2ab8b819bf79433"
  },
  "kernelspec": {
   "display_name": "Python 3.8.8 64-bit ('MyEnviron': conda)",
   "language": "python",
   "name": "python3"
  },
  "language_info": {
   "name": "python",
   "version": "3.8.8"
  },
  "orig_nbformat": 4
 },
 "nbformat": 4,
 "nbformat_minor": 2
}
