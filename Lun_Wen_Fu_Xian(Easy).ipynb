{
 "cells": [
  {
   "cell_type": "code",
   "execution_count": 2,
   "metadata": {},
   "outputs": [],
   "source": [
    "import tensorflow as tf \n",
    "from tensorflow import keras\n",
    "import numpy as np\n",
    "from tensorflow.keras import layers,Sequential\n",
    "from random import randint"
   ]
  },
  {
   "cell_type": "code",
   "execution_count": 3,
   "metadata": {},
   "outputs": [],
   "source": [
    "def actual_function_analytic(x):\n",
    "    return x*x+5"
   ]
  },
  {
   "cell_type": "code",
   "execution_count": 4,
   "metadata": {},
   "outputs": [],
   "source": [
    "x_train=[]\n",
    "y_train=[]\n",
    "X=-10\n",
    "while X<10:\n",
    "    x_train.append(X)\n",
    "    y_train.append(actual_function_analytic(X))\n",
    "    X+=0.01\n",
    "\n",
    "index = [i for i in range(len(y_train))]\n",
    "tf.random.shuffle(index)\n",
    "for i in range(len(y_train)):\n",
    "    x_train[i] = x_train[index[i]]\n",
    "    y_train[i] = y_train[index[i]]\n",
    "    \n",
    "x_test=[]\n",
    "y_test=[]\n",
    "X=10\n",
    "while X<11:\n",
    "    x_test.append(X)\n",
    "    y_test.append(actual_function_analytic(X))\n",
    "    X+=0.1\n",
    "X=-11\n",
    "while X<-10:\n",
    "    x_test.append(X)\n",
    "    y_test.append(actual_function_analytic(X))\n",
    "    X+=0.1\n",
    "index = [i for i in range(len(y_test))]\n",
    "tf.random.shuffle(index)\n",
    "for i in range(len(y_test)):\n",
    "    x_test[i] = x_test[index[i]]\n",
    "    y_test[i] = y_test[index[i]]\n",
    "    \n",
    "(x_eval,y_eval)=(x_train[:len(x_train)//20],y_train[:len(x_train)//20])\n",
    "(x_train,y_train)=(x_train[len(x_train)//20:],y_train[len(x_train)//20:])\n",
    "\n",
    "x_train=tf.convert_to_tensor(x_train,dtype=tf.float32)\n",
    "y_train=tf.convert_to_tensor(y_train,dtype=tf.float32)\n",
    "x_test=tf.convert_to_tensor(x_test,dtype=tf.float32)\n",
    "y_test=tf.convert_to_tensor(y_test,dtype=tf.float32)\n",
    "x_eval=tf.convert_to_tensor(x_eval,dtype=tf.float32)\n",
    "y_eval=tf.convert_to_tensor(y_eval,dtype=tf.float32)"
   ]
  },
  {
   "cell_type": "code",
   "execution_count": 5,
   "metadata": {},
   "outputs": [],
   "source": [
    "def forward(x,w1,b1,w2,b2):\n",
    "    #隐藏层前向计算\n",
    "    h1=x@w1+b1\n",
    "    h1=tf.nn.relu(h1)\n",
    "    #输出层前向计算\n",
    "    h2=h1@w2+b2\n",
    "    return h2"
   ]
  },
  {
   "cell_type": "code",
   "execution_count": 6,
   "metadata": {},
   "outputs": [],
   "source": [
    "def initialize_group():\n",
    "    chrome=tf.random.normal([NG,C_length])\n",
    "    return chrome"
   ]
  },
  {
   "cell_type": "code",
   "execution_count": 7,
   "metadata": {},
   "outputs": [],
   "source": [
    "def decode_to_param(chrome):\n",
    "    #隐藏层张量\n",
    "    w1=tf.reshape(chrome[:5],[1,5])\n",
    "    b1=tf.reshape(chrome[5:10],[5])\n",
    "    #输出层张量\n",
    "    w2=tf.reshape(chrome[10:15],[5,1])\n",
    "    b2=tf.reshape(chrome[-1],[1])\n",
    "    return w1,b1,w2,b2"
   ]
  },
  {
   "cell_type": "code",
   "execution_count": 8,
   "metadata": {},
   "outputs": [],
   "source": [
    "def F_fitness(w1,b1,w2,b2):\n",
    "    batch_size=20\n",
    "    index=[i for i in range(y_train.get_shape()[0])]\n",
    "    index=tf.random.shuffle(index)\n",
    "    err=0\n",
    "    for i in range(batch_size):\n",
    "        x=tf.reshape(x_train[index[i]],[1,1])\n",
    "        o=forward(x,w1,b1,w2,b2)\n",
    "        #err+=pow(o-y_train[index[i]],2)\n",
    "        err+=tf.losses.MSE(o,y_train[index[i]])\n",
    "    err/=batch_size\n",
    "    return 1/err"
   ]
  },
  {
   "cell_type": "code",
   "execution_count": 8,
   "metadata": {},
   "outputs": [],
   "source": [
    "def evaluate_group(group):\n",
    "    score=[]\n",
    "    for chrome in group:\n",
    "        w1,b1,w2,b2=decode_to_param(chrome)\n",
    "        s=F_fitness(w1,b1,w2,b2)\n",
    "        score.append(tf.reshape(s,[1]))\n",
    "    return score"
   ]
  },
  {
   "cell_type": "code",
   "execution_count": 9,
   "metadata": {},
   "outputs": [],
   "source": [
    "def roulette_pick(group,s):\n",
    "    p=tf.random.uniform([1])\n",
    "    for i in range(len(s)):\n",
    "        if p<s[i]:return group[i]\n",
    "    return group[len(s)-1]"
   ]
  },
  {
   "cell_type": "code",
   "execution_count": 10,
   "metadata": {},
   "outputs": [],
   "source": [
    "def select(group,score):\n",
    "    new_group=[]\n",
    "    norm_score=[score[i]/sum(score) for i in range(len(score))]\n",
    "    norm_score_cum=np.cumsum(norm_score)\n",
    "    for i in range(len(group)):\n",
    "        new_group.append(roulette_pick(group,norm_score_cum))\n",
    "    return new_group"
   ]
  },
  {
   "cell_type": "code",
   "execution_count": 11,
   "metadata": {},
   "outputs": [],
   "source": [
    "def crossover(group):\n",
    "    for i in range(0,len(group),2):\n",
    "        p=tf.random.uniform([1])\n",
    "        if p<PC:\n",
    "            place=randint(0,C_length-1)\n",
    "            group[i],group[i+1]=tf.concat([group[i][:place],group[i+1][place:]],axis=0),\\\n",
    "                                tf.concat([group[i+1][:place],group[i][place:]],axis=0)"
   ]
  },
  {
   "cell_type": "code",
   "execution_count": 12,
   "metadata": {},
   "outputs": [],
   "source": [
    "def mutation(group):\n",
    "    for i in range(len(group)):\n",
    "        p=tf.random.uniform([1])\n",
    "        if p<PM:\n",
    "            place=randint(0,C_length-1)\n",
    "            group[i]=tf.concat([group[i][:place],\n",
    "                              group[i][place]+tf.random.uniform([1],minval=-5,maxval=5),\n",
    "                                group[i][place+1:]],\n",
    "                             axis=0)"
   ]
  },
  {
   "cell_type": "code",
   "execution_count": 13,
   "metadata": {},
   "outputs": [],
   "source": [
    "def elitist(group,score,elit,elit_score):\n",
    "    index=score.index(max(score))\n",
    "    if score[index]>elit_score: return group[index],score[index]\n",
    "    else:                       return elit,elit_score"
   ]
  },
  {
   "cell_type": "code",
   "execution_count": 14,
   "metadata": {},
   "outputs": [],
   "source": [
    "def elit_replace(group,score,elit,elit_score):\n",
    "    index=score.index(min(score))\n",
    "    group[index],score[index]=elit,elit_score"
   ]
  },
  {
   "cell_type": "code",
   "execution_count": 15,
   "metadata": {},
   "outputs": [],
   "source": [
    "#遗传算法全局变量定义区\n",
    "PM=0.01\n",
    "PC=0.1\n",
    "NG=20\n",
    "Generate=50\n",
    "C_length=16"
   ]
  },
  {
   "cell_type": "code",
   "execution_count": 16,
   "metadata": {
    "scrolled": true
   },
   "outputs": [
    {
     "ename": "NameError",
     "evalue": "name 'np' is not defined",
     "output_type": "error",
     "traceback": [
      "\u001b[1;31m---------------------------------------------------------------------------\u001b[0m",
      "\u001b[1;31mNameError\u001b[0m                                 Traceback (most recent call last)",
      "\u001b[1;32m<ipython-input-16-fd0b9cc3b25b>\u001b[0m in \u001b[0;36m<module>\u001b[1;34m\u001b[0m\n\u001b[0;32m     12\u001b[0m         \u001b[0melit_replace\u001b[0m\u001b[1;33m(\u001b[0m\u001b[0mgroup\u001b[0m\u001b[1;33m,\u001b[0m\u001b[0mscore\u001b[0m\u001b[1;33m,\u001b[0m\u001b[0melit\u001b[0m\u001b[1;33m,\u001b[0m\u001b[0melit_score\u001b[0m\u001b[1;33m)\u001b[0m\u001b[1;33m\u001b[0m\u001b[1;33m\u001b[0m\u001b[0m\n\u001b[0;32m     13\u001b[0m         \u001b[0mprint\u001b[0m\u001b[1;33m(\u001b[0m\u001b[0mmax\u001b[0m\u001b[1;33m(\u001b[0m\u001b[0mscore\u001b[0m\u001b[1;33m)\u001b[0m\u001b[1;33m,\u001b[0m\u001b[0msum\u001b[0m\u001b[1;33m(\u001b[0m\u001b[0mscore\u001b[0m\u001b[1;33m)\u001b[0m\u001b[1;33m/\u001b[0m\u001b[0mlen\u001b[0m\u001b[1;33m(\u001b[0m\u001b[0mscore\u001b[0m\u001b[1;33m)\u001b[0m\u001b[1;33m)\u001b[0m\u001b[1;33m\u001b[0m\u001b[1;33m\u001b[0m\u001b[0m\n\u001b[1;32m---> 14\u001b[1;33m \u001b[0mGA\u001b[0m\u001b[1;33m(\u001b[0m\u001b[1;33m)\u001b[0m\u001b[1;33m\u001b[0m\u001b[1;33m\u001b[0m\u001b[0m\n\u001b[0m",
      "\u001b[1;32m<ipython-input-16-fd0b9cc3b25b>\u001b[0m in \u001b[0;36mGA\u001b[1;34m()\u001b[0m\n\u001b[0;32m      6\u001b[0m     \u001b[1;32mfor\u001b[0m \u001b[0mi\u001b[0m \u001b[1;32min\u001b[0m \u001b[0mrange\u001b[0m\u001b[1;33m(\u001b[0m\u001b[0mGenerate\u001b[0m\u001b[1;33m)\u001b[0m\u001b[1;33m:\u001b[0m\u001b[1;33m\u001b[0m\u001b[1;33m\u001b[0m\u001b[0m\n\u001b[0;32m      7\u001b[0m         \u001b[0melit\u001b[0m\u001b[1;33m,\u001b[0m\u001b[0melit_score\u001b[0m\u001b[1;33m=\u001b[0m\u001b[0melitist\u001b[0m\u001b[1;33m(\u001b[0m\u001b[0mgroup\u001b[0m\u001b[1;33m,\u001b[0m\u001b[0mscore\u001b[0m\u001b[1;33m,\u001b[0m\u001b[0melit\u001b[0m\u001b[1;33m,\u001b[0m\u001b[0melit_score\u001b[0m\u001b[1;33m)\u001b[0m\u001b[1;33m\u001b[0m\u001b[1;33m\u001b[0m\u001b[0m\n\u001b[1;32m----> 8\u001b[1;33m         \u001b[0mgroup\u001b[0m\u001b[1;33m=\u001b[0m\u001b[0mselect\u001b[0m\u001b[1;33m(\u001b[0m\u001b[0mgroup\u001b[0m\u001b[1;33m,\u001b[0m\u001b[0mscore\u001b[0m\u001b[1;33m)\u001b[0m\u001b[1;31m#Group是一个张量列表\u001b[0m\u001b[1;33m\u001b[0m\u001b[1;33m\u001b[0m\u001b[0m\n\u001b[0m\u001b[0;32m      9\u001b[0m         \u001b[0mcrossover\u001b[0m\u001b[1;33m(\u001b[0m\u001b[0mgroup\u001b[0m\u001b[1;33m)\u001b[0m\u001b[1;33m\u001b[0m\u001b[1;33m\u001b[0m\u001b[0m\n\u001b[0;32m     10\u001b[0m         \u001b[0mmutation\u001b[0m\u001b[1;33m(\u001b[0m\u001b[0mgroup\u001b[0m\u001b[1;33m)\u001b[0m\u001b[1;33m\u001b[0m\u001b[1;33m\u001b[0m\u001b[0m\n",
      "\u001b[1;32m<ipython-input-10-0d6b4d10c0eb>\u001b[0m in \u001b[0;36mselect\u001b[1;34m(group, score)\u001b[0m\n\u001b[0;32m      2\u001b[0m     \u001b[0mnew_group\u001b[0m\u001b[1;33m=\u001b[0m\u001b[1;33m[\u001b[0m\u001b[1;33m]\u001b[0m\u001b[1;33m\u001b[0m\u001b[1;33m\u001b[0m\u001b[0m\n\u001b[0;32m      3\u001b[0m     \u001b[0mnorm_score\u001b[0m\u001b[1;33m=\u001b[0m\u001b[1;33m[\u001b[0m\u001b[0mscore\u001b[0m\u001b[1;33m[\u001b[0m\u001b[0mi\u001b[0m\u001b[1;33m]\u001b[0m\u001b[1;33m/\u001b[0m\u001b[0msum\u001b[0m\u001b[1;33m(\u001b[0m\u001b[0mscore\u001b[0m\u001b[1;33m)\u001b[0m \u001b[1;32mfor\u001b[0m \u001b[0mi\u001b[0m \u001b[1;32min\u001b[0m \u001b[0mrange\u001b[0m\u001b[1;33m(\u001b[0m\u001b[0mlen\u001b[0m\u001b[1;33m(\u001b[0m\u001b[0mscore\u001b[0m\u001b[1;33m)\u001b[0m\u001b[1;33m)\u001b[0m\u001b[1;33m]\u001b[0m\u001b[1;33m\u001b[0m\u001b[1;33m\u001b[0m\u001b[0m\n\u001b[1;32m----> 4\u001b[1;33m     \u001b[0mnorm_score_cum\u001b[0m\u001b[1;33m=\u001b[0m\u001b[0mnp\u001b[0m\u001b[1;33m.\u001b[0m\u001b[0mcumsum\u001b[0m\u001b[1;33m(\u001b[0m\u001b[0mnorm_score\u001b[0m\u001b[1;33m)\u001b[0m\u001b[1;33m\u001b[0m\u001b[1;33m\u001b[0m\u001b[0m\n\u001b[0m\u001b[0;32m      5\u001b[0m     \u001b[1;32mfor\u001b[0m \u001b[0mi\u001b[0m \u001b[1;32min\u001b[0m \u001b[0mrange\u001b[0m\u001b[1;33m(\u001b[0m\u001b[0mlen\u001b[0m\u001b[1;33m(\u001b[0m\u001b[0mgroup\u001b[0m\u001b[1;33m)\u001b[0m\u001b[1;33m)\u001b[0m\u001b[1;33m:\u001b[0m\u001b[1;33m\u001b[0m\u001b[1;33m\u001b[0m\u001b[0m\n\u001b[0;32m      6\u001b[0m         \u001b[0mnew_group\u001b[0m\u001b[1;33m.\u001b[0m\u001b[0mappend\u001b[0m\u001b[1;33m(\u001b[0m\u001b[0mroulette_pick\u001b[0m\u001b[1;33m(\u001b[0m\u001b[0mgroup\u001b[0m\u001b[1;33m,\u001b[0m\u001b[0mnorm_score_cum\u001b[0m\u001b[1;33m)\u001b[0m\u001b[1;33m)\u001b[0m\u001b[1;33m\u001b[0m\u001b[1;33m\u001b[0m\u001b[0m\n",
      "\u001b[1;31mNameError\u001b[0m: name 'np' is not defined"
     ]
    }
   ],
   "source": [
    "def GA():\n",
    "    group=initialize_group()\n",
    "    score=evaluate_group(group)\n",
    "    elit_score=0\n",
    "    elit=0\n",
    "    for i in range(Generate):\n",
    "        elit,elit_score=elitist(group,score,elit,elit_score)\n",
    "        group=select(group,score)#Group是一个张量列表\n",
    "        crossover(group)\n",
    "        mutation(group)\n",
    "        score=evaluate_group(group)\n",
    "        elit_replace(group,score,elit,elit_score)\n",
    "        print(max(score),sum(score)/len(score))\n",
    "GA()"
   ]
  },
  {
   "cell_type": "code",
   "execution_count": null,
   "metadata": {},
   "outputs": [],
   "source": []
  }
 ],
 "metadata": {
  "celltoolbar": "原始单元格格式",
  "kernelspec": {
   "display_name": "Python 3",
   "language": "python",
   "name": "python3"
  },
  "language_info": {
   "codemirror_mode": {
    "name": "ipython",
    "version": 3
   },
   "file_extension": ".py",
   "mimetype": "text/x-python",
   "name": "python",
   "nbconvert_exporter": "python",
   "pygments_lexer": "ipython3",
   "version": "3.8.8"
  }
 },
 "nbformat": 4,
 "nbformat_minor": 2
}
